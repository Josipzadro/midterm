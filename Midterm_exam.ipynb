{
  "nbformat": 4,
  "nbformat_minor": 0,
  "metadata": {
    "colab": {
      "provenance": [],
      "authorship_tag": "ABX9TyNHLsTNYu+eGAojM/rfKxA7",
      "include_colab_link": true
    },
    "kernelspec": {
      "name": "python3",
      "display_name": "Python 3"
    },
    "language_info": {
      "name": "python"
    }
  },
  "cells": [
    {
      "cell_type": "markdown",
      "metadata": {
        "id": "view-in-github",
        "colab_type": "text"
      },
      "source": [
        "<a href=\"https://colab.research.google.com/github/Josipzadro/midterm/blob/main/Midterm_exam.ipynb\" target=\"_parent\"><img src=\"https://colab.research.google.com/assets/colab-badge.svg\" alt=\"Open In Colab\"/></a>"
      ]
    },
    {
      "cell_type": "code",
      "source": [
        "import random\n",
        "import matplotlib.pyplot as plt\n",
        "\n",
        "class Card:\n",
        "    SUITS = [\"♣\", \"♦\", \"♥\", \"♠\"]\n",
        "    RANKS = [\"2\", \"3\", \"4\", \"5\", \"6\", \"7\", \"8\", \"9\", \"10\", \"J\", \"Q\", \"K\", \"A\"]\n",
        "\n",
        "    def __init__(self, rank, suit):\n",
        "        if rank not in self.RANKS:\n",
        "            raise Exception(f\"Invalid rank, must be one of {self.RANKS}\")\n",
        "        if suit not in self.SUITS:\n",
        "            raise Exception(f\"Invalid suit, must be one of {self.SUITS}\")\n",
        "        self._rank = rank\n",
        "        self._suit = suit\n",
        "\n",
        "    def __gt__(self, other):\n",
        "        return self.RANKS.index(self.rank) > self.RANKS.index(other.rank)\n",
        "\n",
        "    def __eq__(self, other):\n",
        "        return self.rank == other.rank\n",
        "\n",
        "    @property\n",
        "    def suit(self):\n",
        "        return self._suit\n",
        "\n",
        "    @property\n",
        "    def rank(self):\n",
        "        return self._rank\n",
        "\n",
        "    def __str__(self):\n",
        "        return f\"{self.rank}{self.suit}\"\n",
        "\n",
        "    def __repr__(self):\n",
        "        return self.__str__()\n",
        "\n",
        "class Deck:\n",
        "    def __init__(self):\n",
        "        cards = []\n",
        "        for rank in Card.RANKS:\n",
        "            for suit in Card.SUITS:\n",
        "                card = Card(rank, suit)\n",
        "                cards.append(card)\n",
        "        self._cards = tuple(cards)\n",
        "\n",
        "    @property\n",
        "    def cards(self):\n",
        "        return self._cards\n",
        "\n",
        "    def shuffle(self):\n",
        "        # Convert tuple to list to shuffle\n",
        "        cards = list(self._cards)\n",
        "        random.shuffle(cards)\n",
        "        # After shuffling, convert it back to tuple to keep it immutable\n",
        "        self._cards = tuple(cards)\n",
        "\n",
        "\n",
        "class Hand:\n",
        "    def __init__(self, deck):\n",
        "        cards = []\n",
        "        for i in range(5):\n",
        "            cards.append(deck.cards[i])\n",
        "        self._cards = tuple(cards)\n",
        "\n",
        "    @property\n",
        "    def is_3_kind(self):\n",
        "        ranks = [card.rank for card in self.cards]\n",
        "        for rank in set(ranks):\n",
        "            if ranks.count(rank) == 3:\n",
        "                return True\n",
        "        return False\n",
        "\n",
        "    @property\n",
        "    def cards(self):\n",
        "        return self._cards\n",
        "\n",
        "iterations = 30000\n",
        "three_of_a_kind_count = 0\n",
        "probability_over_time = []\n",
        "\n",
        "for i in range(1, iterations + 1):\n",
        "    d = Deck()\n",
        "    d.shuffle()\n",
        "    hand = Hand(d)\n",
        "    if hand.is_3_kind:\n",
        "        three_of_a_kind_count += 1\n",
        "    probability_over_time.append((three_of_a_kind_count / i) * 100)\n",
        "\n",
        "# Plotting the results\n",
        "plt.figure(figsize=(10, 5))\n",
        "plt.plot(range(1, iterations + 1), probability_over_time)\n",
        "plt.title('Probability of Drawing a Three of a Kind Over Time')\n",
        "plt.xlabel('Number of Draws')\n",
        "plt.ylabel('Probability (%)')\n",
        "plt.grid(True)\n",
        "plt.show()\n",
        "\n",
        "# Final computed probability\n",
        "final_probability = probability_over_time[-1]\n",
        "print(f\"The final computed probability of drawing a Three of a Kind is {final_probability:.2f}%\")\n"
      ],
      "metadata": {
        "colab": {
          "base_uri": "https://localhost:8080/",
          "height": 492
        },
        "id": "xTLs2DK1s5X5",
        "outputId": "e8880432-cf3b-426a-acc2-34409211cbc6"
      },
      "execution_count": null,
      "outputs": [
        {
          "output_type": "display_data",
          "data": {
            "text/plain": [
              "<Figure size 1000x500 with 1 Axes>"
            ],
            "image/png": "[encoded data removed]"
          },
          "metadata": {}
        },
        {
          "output_type": "stream",
          "name": "stdout",
          "text": [
            "The final computed probability of drawing a Three of a Kind is 2.18%\n"
          ]
        }
      ]
    },
    {
      "cell_type": "code",
      "source": [
        "import numpy as np\n",
        "\n",
        "a = np.arange(0, 12)\n",
        "a = a.reshape(3, 4)\n",
        "a += 7\n",
        "a += 2 * np.arange(4)\n",
        "\n"
      ],
      "metadata": {
        "id": "NxeWcM38sW-s"
      },
      "execution_count": null,
      "outputs": []
    },
    {
      "cell_type": "code",
      "source": [
        "import numpy as np\n",
        "\n",
        "import pandas as pd\n",
        "\n",
        "\n",
        "\n",
        "df = pd.DataFrame(np.random.randn(4, 4), index=[1, 2, 3, 4], columns=['a', 'b', 'c', 'd'])\n",
        "\n",
        "print(df)\n",
        "\n",
        "element_loc = df.loc[3, 'c']\n",
        "element_iloc = df.iloc[2, 2]\n",
        "element_index = df['c'][3]\n",
        "\n",
        "print(\"Using loc: \", element_loc)\n",
        "print(\"Using iloc: \", element_iloc)\n",
        "print(\"Using direct indexing: \", element_index)\n",
        "\n"
      ],
      "metadata": {
        "colab": {
          "base_uri": "https://localhost:8080/"
        },
        "id": "y2aqZIr-snNo",
        "outputId": "b862b41d-bee9-4dbf-820e-3c32dd262cb5"
      },
      "execution_count": null,
      "outputs": [
        {
          "output_type": "stream",
          "name": "stdout",
          "text": [
            "          a         b         c         d\n",
            "1 -0.175096 -0.091487  0.929090  0.995617\n",
            "2 -0.398241  0.631814 -0.060257 -0.409917\n",
            "3 -0.849686  0.048872  0.848655  0.974623\n",
            "4  0.334840  0.029466 -1.515860  1.884875\n",
            "Using loc:  0.8486549708800589\n",
            "Using iloc:  0.8486549708800589\n",
            "Using direct indexing:  0.8486549708800589\n"
          ]
        }
      ]
    },
    {
      "cell_type": "code",
      "source": [
        "class Rectangle:\n",
        "    def __init__(self, width, height):\n",
        "        self.width = width\n",
        "        self.height = height\n",
        "\n",
        "    def area(self):\n",
        "        \"\"\"Regular method that calculates the area of the rectangle.\"\"\"\n",
        "        return self.width * self.height\n",
        "\n",
        "    def __str__(self):\n",
        "        \"\"\"Magic method to return a string representation of the rectangle.\"\"\"\n",
        "        return f\"Rectangle with width {self.width} and height {self.height}\"\n",
        "\n",
        "# Creating an instance of Rectangle\n",
        "rect = Rectangle(5, 10)\n",
        "\n",
        "# Using the regular method\n",
        "print(\"Area of the rectangle:\", rect.area())\n",
        "\n",
        "# Using the magic method (implicitly called by print())\n",
        "print(rect)\n"
      ],
      "metadata": {
        "colab": {
          "base_uri": "https://localhost:8080/"
        },
        "id": "zwDbCgcpurhW",
        "outputId": "faf4885f-b3a7-4f5a-ec8e-788126fdb60e"
      },
      "execution_count": null,
      "outputs": [
        {
          "output_type": "stream",
          "name": "stdout",
          "text": [
            "Area of the rectangle: 50\n",
            "Rectangle with width 5 and height 10\n"
          ]
        }
      ]
    },
    {
      "cell_type": "code",
      "source": [
        "class Shape:\n",
        "    def __init__(self, color, center):\n",
        "        self.color = color\n",
        "        self.center = center\n",
        "\n",
        "class Circle(Shape):  # Inherits from Shape\n",
        "    def __init__(self, radius, color, center):\n",
        "        super().__init__(color, center)  # Call to the parent class constructor\n",
        "        self.radius = radius\n",
        "\n",
        "    def area(self):\n",
        "        return 3.14159 * self.radius ** 2\n",
        "\n",
        "    def __str__(self):\n",
        "        return f\"Circle with radius {self.radius}, color {self.color}, centered at {self.center}\"\n"
      ],
      "metadata": {
        "id": "MRcQTDA7wHUr"
      },
      "execution_count": null,
      "outputs": []
    },
    {
      "cell_type": "code",
      "source": [
        "class Shape:\n",
        "\n",
        "  def __init__(self, color, center):\n",
        "\n",
        "    self.color = color\n",
        "\n",
        "    self.center = center\n",
        "\n",
        "\n",
        "\n",
        "class Circle(Shape): # Inherits from Shape\n",
        "\n",
        "  def __init__(self, radius, color, center):\n",
        "\n",
        "    super().__init__(color, center) # Call to the parent class constructor\n",
        "\n",
        "    self.radius = radius\n",
        "\n",
        "\n",
        "\n",
        "  def area(self):\n",
        "\n",
        "    return 3.14159 * self.radius ** 2\n",
        "\n",
        "\n",
        "\n",
        "  def __str__(self):\n",
        "\n",
        "    return f\"Circle with radius {self.radius}, color {self.color}, centered at {self.center}\""
      ],
      "metadata": {
        "id": "NOrBAz6NxH5B"
      },
      "execution_count": null,
      "outputs": []
    }
  ]
}